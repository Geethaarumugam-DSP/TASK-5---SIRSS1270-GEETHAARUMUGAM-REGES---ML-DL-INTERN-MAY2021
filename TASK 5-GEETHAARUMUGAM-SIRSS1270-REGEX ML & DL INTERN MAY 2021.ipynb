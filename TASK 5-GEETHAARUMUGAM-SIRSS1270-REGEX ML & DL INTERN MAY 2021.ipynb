{
 "cells": [
  {
   "cell_type": "markdown",
   "metadata": {},
   "source": [
    "# Summer Training/Internship Program May 2021- MACHINE LEARNING & DEEP LEARNING\n",
    "\n",
    "Registration I'd: SIRSS1270\n",
    "\n",
    "Name: Geethaarumugam\n",
    "\n",
    "Task:5"
   ]
  },
  {
   "cell_type": "markdown",
   "metadata": {},
   "source": [
    "# Question 1.Given a list of integers, write a function to return the sum of all prime numbers in that list."
   ]
  },
  {
   "cell_type": "code",
   "execution_count": 1,
   "metadata": {},
   "outputs": [
    {
     "name": "stdout",
     "output_type": "stream",
     "text": [
      "[2, 3, 5, 7, 11, 13, 17, 19]\n"
     ]
    }
   ],
   "source": [
    "n = 20\n",
    "primes = []\n",
    "\n",
    "for i in range(2, n + 1):\n",
    "\tfor j in range(2, int(i ** 0.5) + 1):\n",
    " \t\tif i%j == 0:\n",
    " \t\t\tbreak\n",
    "\telse:\n",
    "\t\tprimes.append(i)\n",
    "\n",
    "print(primes)"
   ]
  },
  {
   "cell_type": "markdown",
   "metadata": {},
   "source": [
    "# Question 2:  Given a list of integers, write a function to check whether the list is strictly increasing or not"
   ]
  },
  {
   "cell_type": "code",
   "execution_count": 3,
   "metadata": {},
   "outputs": [
    {
     "name": "stdout",
     "output_type": "stream",
     "text": [
      "Original list : [1, 4, 5, 7, 9, 10]\n",
      "Is list strictly increasing ? : True\n"
     ]
    }
   ],
   "source": [
    "test_list = [1, 4, 5, 7, 9, 10]\n",
    "  \n",
    "# printing original lists\n",
    "print (\"Original list : \" + str(test_list))\n",
    "  \n",
    "# using reduce() + lambda\n",
    "# to check for strictly increasing list\n",
    "res = bool(lambda test_list: reduce(lambda i, j: j if \n",
    "                 i < j else 999, test_list) != 999)\n",
    "  \n",
    "# printing result\n",
    "print (\"Is list strictly increasing ? : \" + str(res))"
   ]
  },
  {
   "cell_type": "markdown",
   "metadata": {},
   "source": [
    "# Question 3: Write a function to check whether a given list is expanding or not (the difference between adjacent elements should keep on increasing).\n"
   ]
  },
  {
   "cell_type": "code",
   "execution_count": 7,
   "metadata": {},
   "outputs": [
    {
     "name": "stdout",
     "output_type": "stream",
     "text": [
      "intial_list [5, 4, 89, 14, 32, 47]\n",
      "difference list:  [-1, 85, -75, 18, 15]\n"
     ]
    }
   ],
   "source": [
    "ini_list = [5, 4, 89, 14, 32, 47]\n",
    "  \n",
    "# printing iniial_list\n",
    "print(\"intial_list\", str(ini_list))\n",
    "  \n",
    "# Calculating difference list\n",
    "diff_list = []\n",
    "for x, y in zip(ini_list[0::], ini_list[1::]):\n",
    "    diff_list.append(y-x)\n",
    "      \n",
    "# printing difference list\n",
    "print (\"difference list: \", str(diff_list))"
   ]
  },
  {
   "cell_type": "markdown",
   "metadata": {},
   "source": [
    "# Question 4: Write a function to calculate all permutations of a given string. (Without using itertools"
   ]
  },
  {
   "cell_type": "code",
   "execution_count": 17,
   "metadata": {},
   "outputs": [
    {
     "name": "stdout",
     "output_type": "stream",
     "text": [
      "Enter the word : abc\n",
      "Permutations of given string  abc are :\n",
      "abc\n",
      "acb\n",
      "bac\n",
      "bca\n",
      "cba\n",
      "cab\n"
     ]
    }
   ],
   "source": [
    "def toString(lst):\n",
    "    return ''.join(lst)\n",
    "def permute(a, l, r):\n",
    "    if l==r:\n",
    "        print(toString(a))\n",
    "    else:\n",
    "        for i in range(l,r+1):\n",
    "            a[l], a[i] = a[i], a[l]\n",
    "            permute(a, l+1, r)\n",
    "            a[l], a[i] = a[i], a[l] \n",
    "\n",
    "if __name__=='__main__':\n",
    "    string = input(\"Enter the word : \")\n",
    "    n = len(string)\n",
    "    a = list(string)\n",
    "    print('Permutations of given string  '+string+' are :')\n",
    "    permute(a, 0, n-1)"
   ]
  },
  {
   "cell_type": "markdown",
   "metadata": {},
   "source": [
    "# Thank you"
   ]
  },
  {
   "cell_type": "code",
   "execution_count": null,
   "metadata": {},
   "outputs": [],
   "source": []
  },
  {
   "cell_type": "code",
   "execution_count": null,
   "metadata": {},
   "outputs": [],
   "source": []
  }
 ],
 "metadata": {
  "kernelspec": {
   "display_name": "Python 3",
   "language": "python",
   "name": "python3"
  },
  "language_info": {
   "codemirror_mode": {
    "name": "ipython",
    "version": 3
   },
   "file_extension": ".py",
   "mimetype": "text/x-python",
   "name": "python",
   "nbconvert_exporter": "python",
   "pygments_lexer": "ipython3",
   "version": "3.8.5"
  }
 },
 "nbformat": 4,
 "nbformat_minor": 4
}
